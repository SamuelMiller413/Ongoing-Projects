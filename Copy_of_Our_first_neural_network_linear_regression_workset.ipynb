{
  "cells": [
    {
      "cell_type": "markdown",
      "metadata": {
        "id": "view-in-github",
        "colab_type": "text"
      },
      "source": [
        "<a href=\"https://colab.research.google.com/github/SamuelMiller413/Ongoing-Projects/blob/main/Copy_of_Our_first_neural_network_linear_regression_workset.ipynb\" target=\"_parent\"><img src=\"https://colab.research.google.com/assets/colab-badge.svg\" alt=\"Open In Colab\"/></a>"
      ]
    },
    {
      "cell_type": "markdown",
      "metadata": {
        "id": "H04So6C3IFoJ"
      },
      "source": [
        "<a href=\"https://colab.research.google.com/github/mgfrantz/CodingNomads-Intro-To-Deep-Learning/blob/master/Fundamentals/Our%20first%20neural%20network%20-%20linear%20regression.ipynb\" target=\"_parent\"><img src=\"https://colab.research.google.com/assets/colab-badge.svg\" alt=\"Open In Colab\"/></a>"
      ]
    },
    {
      "cell_type": "code",
      "execution_count": 1,
      "metadata": {
        "id": "UVZlK6AjphyK"
      },
      "outputs": [],
      "source": [
        "# Imports\n",
        "import torch\n",
        "from torch import nn, optim\n",
        "import torch.nn.functional as F\n",
        "import matplotlib.pyplot as plt\n",
        "import numpy as np\n",
        "import seaborn as sns\n",
        "from sklearn.model_selection import train_test_split\n",
        "\n",
        "%matplotlib inline"
      ]
    },
    {
      "cell_type": "code",
      "execution_count": 3,
      "metadata": {
        "id": "Zhrag2TVqUut"
      },
      "outputs": [],
      "source": [
        "def seed_all(seed=42):\n",
        "    \"\"\"\n",
        "    Sets the numpy and torch random seed.\n",
        "    \"\"\"\n",
        "    np.random.seed(seed)\n",
        "    torch.random.seed = seed\n",
        "\n",
        "seed_all()"
      ]
    },
    {
      "cell_type": "markdown",
      "metadata": {
        "id": "JiTOh6dtWS0i"
      },
      "source": [
        "# Single-Variable Linear Regression"
      ]
    },
    {
      "cell_type": "code",
      "execution_count": 4,
      "metadata": {
        "id": "3i5JbcrJp8Ng"
      },
      "outputs": [],
      "source": [
        "# Create some X data\n",
        "X = np.random.uniform(0, 10, 100)"
      ]
    },
    {
      "cell_type": "code",
      "execution_count": 5,
      "metadata": {
        "id": "uWXuFmJPqglE"
      },
      "outputs": [],
      "source": [
        "# Define the slope (m), bias (b), and some noise we want to add to X to make y\n",
        "m = 3\n",
        "b = 1.8\n",
        "noise = np.random.normal(scale=3, size=100) # add this so we don't have a perfect line relationship"
      ]
    },
    {
      "cell_type": "markdown",
      "metadata": {
        "id": "68gEAbSPxqhM"
      },
      "source": [
        "### Exercise 2.1: Create your `y` variable\n",
        "\n",
        "In the cell above, we've created the slope `m`, the intercept `b`, and a noise factor `noise`. \n",
        "In the cell below, use multiplication and addition to create your `y` variable."
      ]
    },
    {
      "cell_type": "code",
      "execution_count": 6,
      "metadata": {
        "id": "fScgFtR8qvMP"
      },
      "outputs": [],
      "source": [
        "# Your code here\n",
        "y = m * X + b + noise"
      ]
    },
    {
      "cell_type": "code",
      "execution_count": 7,
      "metadata": {
        "id": "6R0i1APRq0SW",
        "colab": {
          "base_uri": "https://localhost:8080/",
          "height": 625
        },
        "outputId": "2de5307e-7a81-4ad4-b32c-674e91227404"
      },
      "outputs": [
        {
          "output_type": "execute_result",
          "data": {
            "text/plain": [
              "<matplotlib.collections.PathCollection at 0x7f8ebf0644d0>"
            ]
          },
          "metadata": {},
          "execution_count": 7
        },
        {
          "output_type": "display_data",
          "data": {
            "text/plain": [
              "<Figure size 720x720 with 1 Axes>"
            ],
            "image/png": "[encoded data removed]"
          },
          "metadata": {
            "needs_background": "light"
          }
        }
      ],
      "source": [
        "fig, ax = plt.subplots(figsize=(10,10))\n",
        "ax.set_xlabel('X')\n",
        "ax.set_ylabel('y')\n",
        "ax.scatter(X, y)"
      ]
    },
    {
      "cell_type": "markdown",
      "metadata": {
        "id": "havhKnLZBih0"
      },
      "source": [
        "### Exercise 2.2: Create a function that returns MSE\n",
        "\n",
        "Look at some of the functions in `torch`.\n",
        "Based on what you've learned in the lesson, create a function that returns the mean squared error for a `torch.Tensor` of `predictions` and `actuals`.\n",
        "There is a test case below so you can understand what the inputs and outputs should be."
      ]
    },
    {
      "cell_type": "code",
      "execution_count": 8,
      "metadata": {
        "id": "qMoZ3iRPrS-x"
      },
      "outputs": [],
      "source": [
        "# Define MSE\n",
        "def mse(predictions, actuals):\n",
        "    # your code here\n",
        "    sum_error = 0.0\n",
        "    for i in range(len(actuals)):\n",
        "        prediction_error = predictions[i] - actuals[i]\n",
        "        sum_error += (prediction_error ** 2)\n",
        "    mse = sum_error / float(len(actuals))\n",
        "    return mse \n",
        "    # raise NotImplementedError(\"Implement MSE, then remove this line\")"
      ]
    },
    {
      "cell_type": "code",
      "execution_count": 9,
      "metadata": {
        "id": "YXVJjYjQYS-r"
      },
      "outputs": [],
      "source": [
        "ys = torch.tensor([1,2,3])\n",
        "yhats = torch.tensor([1.1, 2.1, 3.1])\n",
        "assert isinstance(mse(ys, yhats), torch.Tensor), \"The output of mse should be a torch.Tensor!\"\n",
        "assert torch.allclose(mse(ys, yhats), torch.tensor(0.01)), \"The MSE should be about 0.01\""
      ]
    },
    {
      "cell_type": "code",
      "source": [
        "# From Class\n",
        "\n",
        "# ys = [y1, y2, ..., yn]\n",
        "# yhats = [yhat1, yhat2, ..., yhatn]\n",
        "\n",
        "# mse = ((ys - yhat)**2).mean()"
      ],
      "metadata": {
        "id": "QJFjIfTRn_Yc"
      },
      "execution_count": 10,
      "outputs": []
    },
    {
      "cell_type": "code",
      "execution_count": 11,
      "metadata": {
        "id": "aqjXsI8dr4ba",
        "colab": {
          "base_uri": "https://localhost:8080/"
        },
        "outputId": "bcfcad8e-f964-47d0-9ce3-c1203ebb8e66"
      },
      "outputs": [
        {
          "output_type": "execute_result",
          "data": {
            "text/plain": [
              "tensor(0.0100)"
            ]
          },
          "metadata": {},
          "execution_count": 11
        }
      ],
      "source": [
        "mse(ys, yhats)"
      ]
    },
    {
      "cell_type": "code",
      "execution_count": 12,
      "metadata": {
        "id": "lmtAEb1_YOo6",
        "colab": {
          "base_uri": "https://localhost:8080/"
        },
        "outputId": "a52600b2-3fe3-4381-df6e-b4d97ad6ddb0"
      },
      "outputs": [
        {
          "output_type": "execute_result",
          "data": {
            "text/plain": [
              "tensor(0.0100)"
            ]
          },
          "metadata": {},
          "execution_count": 12
        }
      ],
      "source": [
        "# Now that we've defined MSE, let's just use Torch's.\n",
        "mse_loss = nn.MSELoss()\n",
        "mse_loss(ys, yhats)"
      ]
    },
    {
      "cell_type": "code",
      "execution_count": 13,
      "metadata": {
        "id": "HROGoKWjY0g1",
        "colab": {
          "base_uri": "https://localhost:8080/"
        },
        "outputId": "deb94097-a45c-42bb-ac76-8e9b232e9c3c"
      },
      "outputs": [
        {
          "output_type": "execute_result",
          "data": {
            "text/plain": [
              "tensor(0.0100)"
            ]
          },
          "metadata": {},
          "execution_count": 13
        }
      ],
      "source": [
        "# We can also use the functional API to calculate MSE\n",
        "F.mse_loss(ys, yhats)"
      ]
    },
    {
      "cell_type": "markdown",
      "metadata": {
        "id": "tncRx13VY8Zr"
      },
      "source": [
        "### Exercise 2.3: Based on your knowledge of `scikit-learn`, perform a linear regression to predict `y` from `X`.\n",
        "\n",
        "Fill in the code to fit a linear regression model and find the coefficient(s) and intercept/bias.\n",
        "Are your slope and intercept in the ballpark of the sope and intercept we defined earlier in the notebook?"
      ]
    },
    {
      "cell_type": "code",
      "execution_count": 14,
      "metadata": {
        "id": "_i03QSwHZQFj"
      },
      "outputs": [],
      "source": [
        "from sklearn.linear_model import LinearRegression\n",
        "from sklearn.metrics import mean_squared_error"
      ]
    },
    {
      "cell_type": "code",
      "execution_count": 15,
      "metadata": {
        "id": "OQY_W6WaZTf0",
        "colab": {
          "base_uri": "https://localhost:8080/"
        },
        "outputId": "bc86458a-2526-49f1-aff3-1e18dcd188c8"
      },
      "outputs": [
        {
          "output_type": "execute_result",
          "data": {
            "text/plain": [
              "LinearRegression()"
            ]
          },
          "metadata": {},
          "execution_count": 15
        }
      ],
      "source": [
        "# Fit a linear model on our data\n",
        "lr = LinearRegression()\n",
        "X = X.reshape(-1,1)\n",
        "lr.fit(X,y)# Instantiate and fit a vanilla linear regression"
      ]
    },
    {
      "cell_type": "code",
      "execution_count": 16,
      "metadata": {
        "id": "Lp5rB1BWZnyE",
        "colab": {
          "base_uri": "https://localhost:8080/"
        },
        "outputId": "ec36b438-ae41-4ca2-8940-ae8c2897ef25"
      },
      "outputs": [
        {
          "output_type": "stream",
          "name": "stdout",
          "text": [
            "The slope is [2.86206803] and the intercept is 2.4452884726402466\n"
          ]
        }
      ],
      "source": [
        "# Display the slope and intercept\n",
        "slope = lr.coef_ # Your code here\n",
        "intercept = lr.intercept_ # Your code here\n",
        "\n",
        "\n",
        "\n",
        "assert isinstance(slope, np.ndarray)\n",
        "assert isinstance(intercept, float)\n",
        "\n",
        "print(f'The slope is {str(slope)} and the intercept is {intercept}')"
      ]
    },
    {
      "cell_type": "code",
      "execution_count": 17,
      "metadata": {
        "id": "PANocYcgGMGa"
      },
      "outputs": [],
      "source": [
        "\n",
        "\n",
        "assert isinstance(intercept, float)"
      ]
    },
    {
      "cell_type": "code",
      "execution_count": 18,
      "metadata": {
        "id": "1PAk2Xt3cAEy",
        "colab": {
          "base_uri": "https://localhost:8080/"
        },
        "outputId": "d1e10920-de83-4cd0-e257-e5b831010a08"
      },
      "outputs": [
        {
          "output_type": "stream",
          "name": "stdout",
          "text": [
            "The mean squared error from our linear regression is 7.259261075703482\n"
          ]
        }
      ],
      "source": [
        "# Calculate the mean squared error\n",
        "predictions = lr.predict(X) # Your code here\n",
        "lr_mse = mean_squared_error(y, predictions)\n",
        "\n",
        "print(f'The mean squared error from our linear regression is {lr_mse}')"
      ]
    },
    {
      "cell_type": "code",
      "execution_count": 19,
      "metadata": {
        "id": "8eIhs0pjZyem",
        "colab": {
          "base_uri": "https://localhost:8080/",
          "height": 625
        },
        "outputId": "8fe8e9a8-97dd-4514-d251-34991c98ed10"
      },
      "outputs": [
        {
          "output_type": "execute_result",
          "data": {
            "text/plain": [
              "<matplotlib.legend.Legend at 0x7f8ebefdf990>"
            ]
          },
          "metadata": {},
          "execution_count": 19
        },
        {
          "output_type": "display_data",
          "data": {
            "text/plain": [
              "<Figure size 720x720 with 1 Axes>"
            ],
            "image/png": "[encoded data removed]"
          },
          "metadata": {
            "needs_background": "light"
          }
        }
      ],
      "source": [
        "# Plot our line of best fit\n",
        "fig, ax = plt.subplots(figsize=(10,10))\n",
        "ax.set_xlabel('X')\n",
        "ax.set_ylabel('y')\n",
        "ax.scatter(X, y)\n",
        "_x = np.arange(0, 10)\n",
        "_y = _x * lr.coef_[0] + lr.intercept_\n",
        "ax.plot(_x, _y, c='red', label=f\"Line of best fit\")\n",
        "ax.legend()"
      ]
    },
    {
      "cell_type": "code",
      "execution_count": 54,
      "metadata": {
        "id": "zOJ2WiAyxGyo",
        "colab": {
          "base_uri": "https://localhost:8080/"
        },
        "outputId": "39c79998-b0de-48fe-b6de-c3e0d097e3bc"
      },
      "outputs": [
        {
          "output_type": "stream",
          "name": "stderr",
          "text": [
            "/usr/local/lib/python3.7/dist-packages/ipykernel_launcher.py:2: UserWarning: To copy construct from a tensor, it is recommended to use sourceTensor.clone().detach() or sourceTensor.clone().detach().requires_grad_(True), rather than torch.tensor(sourceTensor).\n",
            "  \n",
            "/usr/local/lib/python3.7/dist-packages/ipykernel_launcher.py:3: UserWarning: To copy construct from a tensor, it is recommended to use sourceTensor.clone().detach() or sourceTensor.clone().detach().requires_grad_(True), rather than torch.tensor(sourceTensor).\n",
            "  This is separate from the ipykernel package so we can avoid doing imports until\n"
          ]
        }
      ],
      "source": [
        "# Because we're in torch now, let's just turn X and y into tensors.\n",
        "X = torch.tensor(X)\n",
        "y = torch.tensor(y)"
      ]
    },
    {
      "cell_type": "markdown",
      "metadata": {
        "id": "_Nln-yhPaceX"
      },
      "source": [
        "## Exercise 2.4: Complete the `forward` method\n",
        "\n",
        "Based on your knowledge of single-variable linear models and object-oriented programming, complete the `forward` method in the `LinReg` class.\n",
        "This method should take the input X, multiply it by the `slope` class attribute, and add the `bias` class attribute."
      ]
    },
    {
      "cell_type": "code",
      "source": [
        "# From Class\n",
        "\n",
        "# mean_squared_error(y, lr.predict(X.reshape(-1, 1)))"
      ],
      "metadata": {
        "id": "YcQp94Tw8huS"
      },
      "execution_count": 62,
      "outputs": []
    },
    {
      "cell_type": "code",
      "execution_count": 63,
      "metadata": {
        "id": "dohP7dnQtAyN"
      },
      "outputs": [],
      "source": [
        "# Build our linear regression model\n",
        "class LinReg(nn.Module):\n",
        "    def __init__(self):\n",
        "        super().__init__()\n",
        "        # Randomly initialize 2 parameters, one for our slope and one for our bias.\n",
        "        self.slope = nn.Parameter(torch.rand(1))\n",
        "        self.bias = nn.Parameter(torch.rand(1))\n",
        "\n",
        "    def forward(self, X):\n",
        "        pred = X * self.slope + self.bias\n",
        "        return pred\n",
        "         "
      ]
    },
    {
      "cell_type": "code",
      "execution_count": 64,
      "metadata": {
        "id": "okgeYEnUtfHx"
      },
      "outputs": [],
      "source": [
        "lr = LinReg()\n",
        "# mean_squared_error(y, lr(X.reshape(-1, 1)))"
      ]
    },
    {
      "cell_type": "code",
      "source": [
        "yhat =lr(X)"
      ],
      "metadata": {
        "id": "pjl8_PVA_vWo"
      },
      "execution_count": 66,
      "outputs": []
    },
    {
      "cell_type": "code",
      "source": [
        "yhat.shape"
      ],
      "metadata": {
        "colab": {
          "base_uri": "https://localhost:8080/"
        },
        "id": "hChSdrZi_5Nl",
        "outputId": "7cc2d360-6d07-4fb0-e899-61bddb2af925"
      },
      "execution_count": 67,
      "outputs": [
        {
          "output_type": "execute_result",
          "data": {
            "text/plain": [
              "torch.Size([100, 1])"
            ]
          },
          "metadata": {},
          "execution_count": 67
        }
      ]
    },
    {
      "cell_type": "markdown",
      "metadata": {
        "id": "gEodiY28UruL"
      },
      "source": [
        "## Exercise 2.5: Modifying the learning rate and number of epochs\n",
        "\n",
        "Change the number of epochs `N_EPOCHS` and learning rate `LR` variables.\n",
        "What do you observe about the loss over time and  when the learning rate becomes too large or too small?"
      ]
    },
    {
      "cell_type": "code",
      "execution_count": 68,
      "metadata": {
        "id": "g5peJppY0Tsm"
      },
      "outputs": [],
      "source": [
        "N_EPOCHS = 500\n",
        "LR = 1e-3\n"
      ]
    },
    {
      "cell_type": "code",
      "execution_count": 69,
      "metadata": {
        "id": "WGi-JIk-0ZP7",
        "colab": {
          "base_uri": "https://localhost:8080/"
        },
        "outputId": "37276cb8-b478-4b62-a341-2b18723ceca9"
      },
      "outputs": [
        {
          "output_type": "stream",
          "name": "stdout",
          "text": [
            "Epoch 0 Train Loss: 273.8457\n",
            "Epoch 50 Train Loss: 137.3026\n",
            "Epoch 100 Train Loss: 133.9729\n",
            "Epoch 150 Train Loss: 131.0071\n",
            "Epoch 200 Train Loss: 128.2017\n",
            "Epoch 250 Train Loss: 125.5477\n",
            "Epoch 300 Train Loss: 123.0370\n",
            "Epoch 350 Train Loss: 120.6618\n",
            "Epoch 400 Train Loss: 118.4147\n",
            "Epoch 450 Train Loss: 116.2889\n"
          ]
        },
        {
          "output_type": "stream",
          "name": "stderr",
          "text": [
            "/usr/local/lib/python3.7/dist-packages/ipykernel_launcher.py:9: UserWarning: Using a target size (torch.Size([100])) that is different to the input size (torch.Size([100, 1])). This will likely lead to incorrect results due to broadcasting. Please ensure they have the same size.\n",
            "  if __name__ == '__main__':\n"
          ]
        }
      ],
      "source": [
        "slopes = []\n",
        "biases = []\n",
        "losses = []\n",
        "_alphas = []\n",
        "for i in range(N_EPOCHS):\n",
        "    # Make some inferences\n",
        "    yhat = lr(X)\n",
        "    # Measure how bad those guesses were\n",
        "    loss = F.mse_loss(yhat, y)\n",
        "    if i%(N_EPOCHS/10)==0:\n",
        "        print(f\"Epoch {i} Train Loss: {loss:.04f}\")\n",
        "    # Calculate the gradient of all the parameters with respect to the loss\n",
        "    loss.backward()\n",
        "    # Apply the SGD update rule\n",
        "    lr.slope.data.sub_(lr.slope.grad * LR)\n",
        "    lr.bias.data.sub_(lr.bias.grad * LR)\n",
        "    # Zero out the gradients for the next round\n",
        "    lr.slope.grad.zero_()\n",
        "    lr.bias.grad.zero_()\n",
        "\n",
        "    # Record the parameters and losses so we can plot them out later\n",
        "    slopes.append(float(lr.slope.data.detach().numpy()))\n",
        "    biases.append(float(lr.bias.data.detach().numpy()))\n",
        "    losses.append(float(loss.detach().numpy()))\n",
        "    _alphas.append(i/N_EPOCHS)"
      ]
    },
    {
      "cell_type": "code",
      "execution_count": 70,
      "metadata": {
        "id": "wgyFeEBudKpF",
        "colab": {
          "base_uri": "https://localhost:8080/"
        },
        "outputId": "989c23c1-af13-40c9-b4c9-3afe0cf168d5"
      },
      "outputs": [
        {
          "output_type": "execute_result",
          "data": {
            "text/plain": [
              "(Parameter containing:\n",
              " tensor([1.7127], requires_grad=True), Parameter containing:\n",
              " tensor([4.7592], requires_grad=True))"
            ]
          },
          "metadata": {},
          "execution_count": 70
        }
      ],
      "source": [
        "lr.slope, lr.bias"
      ]
    },
    {
      "cell_type": "markdown",
      "metadata": {
        "id": "GWDG9EcIrmxh"
      },
      "source": [
        "Let's plot what we've done so far.\n",
        "The blue dots represent the data, and the red lines represent the functions created by our slopes and biases as the model learns.\n",
        "The more transparent lines are the first iterations in our training loop.\n",
        "Notice that as the lines get more solid, they fit the data better.\n",
        "This illustrates the process of our model learning the data!"
      ]
    },
    {
      "cell_type": "code",
      "execution_count": 71,
      "metadata": {
        "id": "qrWoCKIV1z4X",
        "colab": {
          "base_uri": "https://localhost:8080/",
          "height": 606
        },
        "outputId": "244dde7b-8610-49c6-93fb-749db57a420b"
      },
      "outputs": [
        {
          "output_type": "display_data",
          "data": {
            "text/plain": [
              "<Figure size 720x720 with 1 Axes>"
            ],
            "image/png": "[encoded data removed]"
          },
          "metadata": {
            "needs_background": "light"
          }
        }
      ],
      "source": [
        "fig, ax = plt.subplots(figsize=(10,10))\n",
        "ax.set_xlabel('X')\n",
        "ax.set_ylabel('y')\n",
        "ax.scatter(X, y)\n",
        "for s, b, a in zip(slopes, biases, _alphas):\n",
        "    _x = np.arange(0, 10)\n",
        "    _y = _x * s + b\n",
        "    ax.plot(_x, _y, alpha=a, c='red', label=f\"Epoch {int(a)}\")\n"
      ]
    },
    {
      "cell_type": "code",
      "execution_count": 72,
      "metadata": {
        "id": "7gQXK8bw2NL-",
        "colab": {
          "base_uri": "https://localhost:8080/",
          "height": 621
        },
        "outputId": "b7a00b4a-3824-4319-b1ed-fedb55b6f7e2"
      },
      "outputs": [
        {
          "output_type": "display_data",
          "data": {
            "text/plain": [
              "<Figure size 1008x720 with 1 Axes>"
            ],
            "image/png": "[encoded data removed]"
          },
          "metadata": {
            "needs_background": "light"
          }
        }
      ],
      "source": [
        "fig, ax = plt.subplots(figsize=(14,10))\n",
        "ax.plot(losses)\n",
        "ax.set_xlabel('Epoch')\n",
        "ax.set_ylabel('Loss (MSE)')\n",
        "if (losses[-1] > losses[0]) | np.isnan(losses[-1]):\n",
        "    ax.set_title('Diverging - BAD!')\n",
        "else:\n",
        "    ax.set_title('Converging - goood!')"
      ]
    },
    {
      "cell_type": "markdown",
      "metadata": {
        "id": "7xwSwwrK2dXr"
      },
      "source": [
        "<!-- split -->\n",
        "\n",
        "# Multi-varable linear regression"
      ]
    },
    {
      "cell_type": "code",
      "execution_count": 73,
      "metadata": {
        "id": "-VVJBDwN6X-_"
      },
      "outputs": [],
      "source": [
        "# Make yet another fake dataset\n",
        "from sklearn.datasets import make_regression\n",
        "X, y = make_regression(n_samples=1000, n_features=3, n_informative=2, bias=3, noise=2)"
      ]
    },
    {
      "cell_type": "code",
      "execution_count": 74,
      "metadata": {
        "id": "3XHTBONL8APT"
      },
      "outputs": [],
      "source": [
        "# No more bad habits, we need to split our data.\n",
        "X_train, X_valid, y_train, y_valid = (torch.tensor(i).float() for i in train_test_split(X, y, test_size=0.1, random_state=42))"
      ]
    },
    {
      "cell_type": "markdown",
      "metadata": {
        "id": "DNX_biscdGbX"
      },
      "source": [
        "## Exercise 2.6: Create `weights` and `bias` tensors\n",
        "\n",
        "In the cell below, create a `weights` tensor and a `bias` tensor.\n",
        "For both of these tensors, use the [`torch.rand`](https://pytorch.org/docs/stable/generated/torch.rand.html) function.\n",
        "The `weights` tensor should have as many values as `X_train` has features.\n",
        "The `bias` tensor should just be a single random value.\n",
        "\n",
        "Once you've created these tensors, turn them into parameters using the [`nn.Parameter`](https://pytorch.org/docs/stable/generated/torch.nn.parameter.Parameter.html) class.\n",
        "If you need a reference here, look at how this was done when we created the `LinReg` class in Exercise 2.4."
      ]
    },
    {
      "cell_type": "code",
      "source": [
        "X_train.shape"
      ],
      "metadata": {
        "colab": {
          "base_uri": "https://localhost:8080/"
        },
        "id": "qNxK0_7zW80T",
        "outputId": "4e7b9b86-dd7b-4b3c-8d86-3dfaa66fcfd9"
      },
      "execution_count": 79,
      "outputs": [
        {
          "output_type": "execute_result",
          "data": {
            "text/plain": [
              "torch.Size([900, 3])"
            ]
          },
          "metadata": {},
          "execution_count": 79
        }
      ]
    },
    {
      "cell_type": "code",
      "execution_count": 83,
      "metadata": {
        "id": "2X8v_aqs8IMY"
      },
      "outputs": [],
      "source": [
        "# Let's create some temporary weights and biases and test out our matrix operations before we build our model.\n",
        "# Create a weights parameter with 1 beta per column in X\n",
        "\n",
        "# EXAMPLE:\n",
        "# class MyLinear(nn.Module):\n",
        "#   def __init__(self, in_features, out_features):\n",
        "#     super().__init__()\n",
        "#     self.weight = nn.Parameter(torch.randn(in_features, out_features))\n",
        "#     self.bias = nn.Parameter(torch.randn(out_features))\n",
        "\n",
        "#   def forward(self, input):\n",
        "#     return (input @ self.weight) + self.bias\n",
        "\n",
        "\n",
        "weights = nn.Parameter(torch.rand(3)) # \n",
        "# Create our bias parameter\n",
        "bias = nn.Parameter(torch.rand(1))"
      ]
    },
    {
      "cell_type": "code",
      "execution_count": 84,
      "metadata": {
        "id": "ZW3sWkn49A9r",
        "colab": {
          "base_uri": "https://localhost:8080/"
        },
        "outputId": "3feb6dca-229c-4e00-b137-15e0721a3486"
      },
      "outputs": [
        {
          "output_type": "execute_result",
          "data": {
            "text/plain": [
              "tensor([-0.5477, -0.0453,  0.2803,  0.1479, -0.3267, -0.0611,  0.4745,  0.1412,\n",
              "         0.0858,  0.6047], grad_fn=<AddBackward0>)"
            ]
          },
          "metadata": {},
          "execution_count": 84
        }
      ],
      "source": [
        "# Test out the operation we want to perform in the forward pass\n",
        "torch.matmul(X_train[:10], weights) + bias"
      ]
    },
    {
      "cell_type": "code",
      "execution_count": 85,
      "metadata": {
        "id": "y8bauLhD7N8V",
        "colab": {
          "base_uri": "https://localhost:8080/"
        },
        "outputId": "f3e8a242-2e95-4723-f3c3-673e6fbf78ee"
      },
      "outputs": [
        {
          "output_type": "execute_result",
          "data": {
            "text/plain": [
              "tensor([-0.5477, -0.0453,  0.2803,  0.1479, -0.3267, -0.0611,  0.4745,  0.1412,\n",
              "         0.0858,  0.6047], grad_fn=<AddBackward0>)"
            ]
          },
          "metadata": {},
          "execution_count": 85
        }
      ],
      "source": [
        "# FYI: @ does the same thing as matmul in this context and is easier\n",
        "X_train[:10]@weights + bias"
      ]
    },
    {
      "cell_type": "code",
      "execution_count": 86,
      "metadata": {
        "id": "mYRcEdGH8aN3"
      },
      "outputs": [],
      "source": [
        "# Sanity check: different implementations of our forward pass are the same\n",
        "assert (X_train@weights + bias == torch.matmul(X_train, weights) + bias).all()"
      ]
    },
    {
      "cell_type": "code",
      "execution_count": 87,
      "metadata": {
        "id": "gNzWV8938wjO"
      },
      "outputs": [],
      "source": [
        "# Let's make our model\n",
        "class LinRegMulti(nn.Module):\n",
        "    def __init__(self, n_cols):\n",
        "        super().__init__()\n",
        "        self.n_cols = n_cols\n",
        "\n",
        "        self.weights = nn.Parameter(torch.rand(self.n_cols))\n",
        "        self.bias = nn.Parameter(torch.rand(1))\n",
        "    \n",
        "    def forward(self, X):\n",
        "        return X@self.weights.T + self.bias"
      ]
    },
    {
      "cell_type": "code",
      "execution_count": 88,
      "metadata": {
        "id": "wEzQbpnR8hqO"
      },
      "outputs": [],
      "source": [
        "N_EPOCHS = 10000\n",
        "LR = 1e-3"
      ]
    },
    {
      "cell_type": "code",
      "execution_count": 89,
      "metadata": {
        "id": "MfWaPFjW9dfb"
      },
      "outputs": [],
      "source": [
        "lrm = LinRegMulti(X_train.shape[1])"
      ]
    },
    {
      "cell_type": "code",
      "execution_count": 90,
      "metadata": {
        "id": "UlRs5GF7-CQh"
      },
      "outputs": [],
      "source": [
        "# Instead of updating each parameter individually, let's make an update rule function.\n",
        "def gd_update_rule(parameters, lr):\n",
        "    parameters.data.sub_(parameters.grad * lr)\n",
        "    parameters.grad.zero_()"
      ]
    },
    {
      "cell_type": "code",
      "execution_count": 91,
      "metadata": {
        "id": "zzk5omp6-hEX"
      },
      "outputs": [],
      "source": [
        "train_losses = []\n",
        "valid_losses = []"
      ]
    },
    {
      "cell_type": "code",
      "execution_count": 92,
      "metadata": {
        "id": "GczinipS9hRz",
        "colab": {
          "base_uri": "https://localhost:8080/"
        },
        "outputId": "88f17d09-ebe3-47ad-e35c-87d4e32fdebc"
      },
      "outputs": [
        {
          "output_type": "stream",
          "name": "stderr",
          "text": [
            "/usr/local/lib/python3.7/dist-packages/ipykernel_launcher.py:11: UserWarning: The use of `x.T` on tensors of dimension other than 2 to reverse their shape is deprecated and it will throw an error in a future release. Consider `x.mT` to transpose batches of matricesor `x.permute(*torch.arange(x.ndim - 1, -1, -1))` to reverse the dimensions of a tensor. (Triggered internally at  ../aten/src/ATen/native/TensorShape.cpp:2318.)\n",
            "  # This is added back by InteractiveShellApp.init_path()\n"
          ]
        },
        {
          "output_type": "stream",
          "name": "stdout",
          "text": [
            "Epoch 0 Train Loss: 2045.9030, Valid Loss: 2469.1990\n",
            "Epoch 1000 Train Loss: 53.2189, Valid Loss: 64.4583\n",
            "Epoch 2000 Train Loss: 5.3655, Valid Loss: 5.9474\n",
            "Epoch 3000 Train Loss: 4.1693, Valid Loss: 4.2584\n",
            "Epoch 4000 Train Loss: 4.1385, Valid Loss: 4.1792\n",
            "Epoch 5000 Train Loss: 4.1377, Valid Loss: 4.1719\n",
            "Epoch 6000 Train Loss: 4.1377, Valid Loss: 4.1711\n",
            "Epoch 7000 Train Loss: 4.1377, Valid Loss: 4.1712\n",
            "Epoch 8000 Train Loss: 4.1377, Valid Loss: 4.1712\n",
            "Epoch 9000 Train Loss: 4.1377, Valid Loss: 4.1712\n"
          ]
        }
      ],
      "source": [
        "for i in range(N_EPOCHS):\n",
        "    yhat = lrm(X_train)\n",
        "    loss = mse(yhat, y_train)\n",
        "    loss.backward()\n",
        "    for p in lrm.parameters():\n",
        "        gd_update_rule(p, LR)\n",
        "    train_losses.append(loss.detach().numpy())\n",
        "\n",
        "    with torch.no_grad():\n",
        "        yhat = lrm(X_valid)\n",
        "        valid_loss = mse(yhat, y_valid)\n",
        "        valid_losses.append(valid_loss.numpy())\n",
        "\n",
        "    if i%(N_EPOCHS/10) == 0:\n",
        "        print(f\"Epoch {i} Train Loss: {loss:.04f}, Valid Loss: {valid_loss:.04f}\")"
      ]
    },
    {
      "cell_type": "code",
      "execution_count": 93,
      "metadata": {
        "id": "RoVuHW7a9iau",
        "colab": {
          "base_uri": "https://localhost:8080/",
          "height": 719
        },
        "outputId": "77b44d4a-f844-4c05-f756-8ec970b3ec6c"
      },
      "outputs": [
        {
          "output_type": "execute_result",
          "data": {
            "text/plain": [
              "<matplotlib.legend.Legend at 0x7f8eb7202810>"
            ]
          },
          "metadata": {},
          "execution_count": 93
        },
        {
          "output_type": "display_data",
          "data": {
            "text/plain": [
              "<Figure size 864x864 with 1 Axes>"
            ],
            "image/png": "[encoded data removed]"
          },
          "metadata": {
            "needs_background": "light"
          }
        }
      ],
      "source": [
        "EPOCHS_TO_SHOW = 2000\n",
        "fig, ax = plt.subplots(figsize=(12, 12))\n",
        "ax.plot(train_losses[:EPOCHS_TO_SHOW], label='Train', linewidth=3, alpha=0.5)\n",
        "ax.plot(valid_losses[:EPOCHS_TO_SHOW], ls='--', label='Valid')\n",
        "ax.legend()"
      ]
    },
    {
      "cell_type": "code",
      "execution_count": 94,
      "metadata": {
        "id": "nVxNByIg-mas",
        "colab": {
          "base_uri": "https://localhost:8080/"
        },
        "outputId": "d9500b99-9739-46f9-a47c-b5f3c0ce200a"
      },
      "outputs": [
        {
          "output_type": "execute_result",
          "data": {
            "text/plain": [
              "Parameter containing:\n",
              "tensor([2.7642e-02, 4.1119e+01, 2.4042e+01], requires_grad=True)"
            ]
          },
          "metadata": {},
          "execution_count": 94
        }
      ],
      "source": [
        "lrm.weights"
      ]
    },
    {
      "cell_type": "code",
      "execution_count": 95,
      "metadata": {
        "id": "fYNLiUqy-yxx",
        "colab": {
          "base_uri": "https://localhost:8080/"
        },
        "outputId": "78dfbcc3-2e4e-4fe3-a16a-1c408b34f5e0"
      },
      "outputs": [
        {
          "output_type": "execute_result",
          "data": {
            "text/plain": [
              "Parameter containing:\n",
              "tensor([2.9828], requires_grad=True)"
            ]
          },
          "metadata": {},
          "execution_count": 95
        }
      ],
      "source": [
        "lrm.bias"
      ]
    },
    {
      "cell_type": "markdown",
      "metadata": {
        "id": "Nof2GJMtAhEO"
      },
      "source": [
        "## The `Linear` layer\n"
      ]
    },
    {
      "cell_type": "code",
      "execution_count": 97,
      "metadata": {
        "id": "59HrUTC5_YfS"
      },
      "outputs": [],
      "source": [
        "class Linear(nn.Module):\n",
        "    def __init__(self, dim_in, dim_out):\n",
        "        super().__init__()\n",
        "        self.weights = nn.Parameter(torch.rand((dim_in, dim_out)))\n",
        "        self.bias = nn.Parameter(torch.rand(dim_out))\n",
        "    \n",
        "    def forward(self, X):\n",
        "\n",
        "        return X@self.weights + self.bias"
      ]
    },
    {
      "cell_type": "code",
      "execution_count": 98,
      "metadata": {
        "id": "glH-bIYp8JxC"
      },
      "outputs": [],
      "source": [
        "# Let's compare our Linear class with nn.Linear\n",
        "l1 = Linear(3, 5)\n",
        "l2 = nn.Linear(3, 5)"
      ]
    },
    {
      "cell_type": "code",
      "execution_count": 99,
      "metadata": {
        "id": "SNAS7jI99yGE",
        "colab": {
          "base_uri": "https://localhost:8080/"
        },
        "outputId": "dc92218c-1a19-4d09-e0b3-3f220d6ffdca"
      },
      "outputs": [
        {
          "output_type": "execute_result",
          "data": {
            "text/plain": [
              "Parameter containing:\n",
              "tensor([[ 0.1265, -0.4785, -0.2029],\n",
              "        [ 0.4766, -0.3583,  0.4647],\n",
              "        [-0.4211, -0.1309, -0.5199],\n",
              "        [ 0.5383, -0.0140, -0.1477],\n",
              "        [ 0.4269, -0.4111,  0.2948]], requires_grad=True)"
            ]
          },
          "metadata": {},
          "execution_count": 99
        }
      ],
      "source": [
        "l2.weight"
      ]
    },
    {
      "cell_type": "code",
      "execution_count": 100,
      "metadata": {
        "id": "QgwbpaGw9wCT",
        "colab": {
          "base_uri": "https://localhost:8080/"
        },
        "outputId": "6fc063af-35e7-4389-a24a-e9786061b1ef"
      },
      "outputs": [
        {
          "output_type": "execute_result",
          "data": {
            "text/plain": [
              "Parameter containing:\n",
              "tensor([[0.1716, 0.8918, 0.4475, 0.8085, 0.9105],\n",
              "        [0.1407, 0.3519, 0.3024, 0.9879, 0.7246],\n",
              "        [0.6708, 0.7414, 0.2102, 0.6046, 0.7482]], requires_grad=True)"
            ]
          },
          "metadata": {},
          "execution_count": 100
        }
      ],
      "source": [
        "l1.weights"
      ]
    },
    {
      "cell_type": "code",
      "execution_count": 101,
      "metadata": {
        "id": "ZHTeLzXP_Rzc",
        "colab": {
          "base_uri": "https://localhost:8080/"
        },
        "outputId": "abe9d17f-c79b-4c85-cd45-26f8b493be5d"
      },
      "outputs": [
        {
          "output_type": "execute_result",
          "data": {
            "text/plain": [
              "tensor([ 0.4419,  0.3653,  0.4438, -0.5531, -0.2319], grad_fn=<CopyBackwards>)"
            ]
          },
          "metadata": {},
          "execution_count": 101
        }
      ],
      "source": [
        "l1.weights.data.copy_(l2.weight.T)\n",
        "l1.bias.data.copy_(l2.bias)"
      ]
    },
    {
      "cell_type": "code",
      "execution_count": 102,
      "metadata": {
        "id": "LZsxCvsZ8c5R",
        "colab": {
          "base_uri": "https://localhost:8080/"
        },
        "outputId": "b0583239-ef37-4931-f9bc-cc95235adde7"
      },
      "outputs": [
        {
          "output_type": "execute_result",
          "data": {
            "text/plain": [
              "tensor([[ 0.6045,  0.3590,  0.8061, -1.3387, -0.2261],\n",
              "        [ 0.2889, -0.3077,  0.9362, -0.8497, -0.8069],\n",
              "        [ 0.1168, -0.0227,  0.4745, -0.5693, -0.6230],\n",
              "        [ 0.5171,  0.4001,  0.4427, -0.4057, -0.1774],\n",
              "        [ 1.1105,  0.9730,  0.5486, -0.5677,  0.4236]], grad_fn=<AddBackward0>)"
            ]
          },
          "metadata": {},
          "execution_count": 102
        }
      ],
      "source": [
        "l1(X_train[:5])"
      ]
    },
    {
      "cell_type": "code",
      "execution_count": 103,
      "metadata": {
        "id": "o-l2dsw78oyO",
        "colab": {
          "base_uri": "https://localhost:8080/"
        },
        "outputId": "2aca00c2-b4d7-418a-ad55-342b8dad1d78"
      },
      "outputs": [
        {
          "output_type": "execute_result",
          "data": {
            "text/plain": [
              "tensor([[ 0.6045,  0.3590,  0.8061, -1.3387, -0.2261],\n",
              "        [ 0.2889, -0.3077,  0.9362, -0.8497, -0.8069],\n",
              "        [ 0.1168, -0.0227,  0.4745, -0.5693, -0.6230],\n",
              "        [ 0.5171,  0.4001,  0.4427, -0.4057, -0.1774],\n",
              "        [ 1.1105,  0.9730,  0.5486, -0.5677,  0.4236]],\n",
              "       grad_fn=<AddmmBackward0>)"
            ]
          },
          "metadata": {},
          "execution_count": 103
        }
      ],
      "source": [
        "l2(X_train[:5])"
      ]
    },
    {
      "cell_type": "code",
      "execution_count": 104,
      "metadata": {
        "id": "OJK1Q27O_cdR"
      },
      "outputs": [],
      "source": [
        "assert (l1(X_train[:5]) == l2(X_train[:5])).all()"
      ]
    },
    {
      "cell_type": "markdown",
      "metadata": {
        "id": "kRUnA85j8l9i"
      },
      "source": [
        "Sometimes `torch`'s implementations with some optimizations that make operations run faster.\n",
        "We'll see examples of this later in the course.\n",
        "I was just curious to see whether `torch`'s implementation was significantly faster than ours using `%%timeit`."
      ]
    },
    {
      "cell_type": "code",
      "source": [
        ""
      ],
      "metadata": {
        "id": "pWdCYf7zeaWn"
      },
      "execution_count": null,
      "outputs": []
    },
    {
      "cell_type": "code",
      "execution_count": 105,
      "metadata": {
        "id": "iRV8GSei7rt_",
        "colab": {
          "base_uri": "https://localhost:8080/"
        },
        "outputId": "6bc46dc9-a644-4b2b-a737-cb5a966c8ace"
      },
      "outputs": [
        {
          "output_type": "stream",
          "name": "stdout",
          "text": [
            "The slowest run took 70.47 times longer than the fastest. This could mean that an intermediate result is being cached.\n",
            "100000 loops, best of 5: 17.7 µs per loop\n"
          ]
        }
      ],
      "source": [
        "%%timeit \n",
        "l1(X_train[:5])"
      ]
    },
    {
      "cell_type": "code",
      "execution_count": 106,
      "metadata": {
        "id": "WFOymbqq7wHO",
        "colab": {
          "base_uri": "https://localhost:8080/"
        },
        "outputId": "129d9999-ca7e-4f5a-b870-b66f5b4270a6"
      },
      "outputs": [
        {
          "output_type": "stream",
          "name": "stdout",
          "text": [
            "The slowest run took 12.83 times longer than the fastest. This could mean that an intermediate result is being cached.\n",
            "100000 loops, best of 5: 17.7 µs per loop\n"
          ]
        }
      ],
      "source": [
        "%%timeit\n",
        " l2(X_train[:5])"
      ]
    },
    {
      "cell_type": "markdown",
      "metadata": {
        "id": "aw6rORfmCmZt"
      },
      "source": [
        "## Nonlinearities (activation functions)"
      ]
    },
    {
      "cell_type": "code",
      "execution_count": 107,
      "metadata": {
        "id": "gE7TAbIG2tjD",
        "colab": {
          "base_uri": "https://localhost:8080/",
          "height": 518
        },
        "outputId": "238db8c9-8b4a-4676-d763-26096565e3c7"
      },
      "outputs": [
        {
          "output_type": "execute_result",
          "data": {
            "text/plain": [
              "<matplotlib.legend.Legend at 0x7f8eb7aafb50>"
            ]
          },
          "metadata": {},
          "execution_count": 107
        },
        {
          "output_type": "display_data",
          "data": {
            "text/plain": [
              "<Figure size 1008x576 with 1 Axes>"
            ],
            "image/png": "[encoded data removed]"
          },
          "metadata": {
            "needs_background": "light"
          }
        }
      ],
      "source": [
        "rng = torch.arange(-5, 5.01, 0.05)\n",
        "fig, ax = plt.subplots(figsize=(14, 8))\n",
        "ax.plot(rng, F.relu(rng), label='ReLU')\n",
        "ax.plot(rng, torch.tanh(rng), label='tanh')\n",
        "ax.plot(rng, torch.sigmoid(rng), label='sigmoid')\n",
        "ax.plot(rng, F.leaky_relu(rng, negative_slope=0.01), ls='--', label='leaky ReLU')\n",
        "ax.set_ylim(-1.1, 1.1)\n",
        "ax.set_title('Common activation functions')\n",
        "ax.legend()"
      ]
    },
    {
      "cell_type": "markdown",
      "metadata": {
        "id": "7jGO3lsathAu"
      },
      "source": [
        "## Exercise 2.7: Explore our neural network\n",
        "\n",
        "In this exercise, use the code below to explore different aspects of our nerual netowrk.\n",
        "For each of the following scenarios, inspect the plots of the train/validaiton loss at the end of the notebook and record what happens with each experient you do.\n",
        "Try to...\n",
        "* Switch out `nn.Linear` for the `Linear` class we defined earlier. Do these networks learn differently?\n",
        "* What happens if if we use `MultiLayerRegressor` (the subclassing API) vs. the `multilayer_regressor` function (the sequential API)? Are these equivalent?\n",
        "* What happens as you increase the `hiiden_dim`? \n",
        "* Remove the nonlinearity. Does your network learn as well?\n",
        "* Try adding at least 1 layer in between the input and output layers of the network, with a nonlinearity. **NOTE:** Since we're learning a really simple function, additional layers may not help our loss."
      ]
    },
    {
      "cell_type": "code",
      "execution_count": 242,
      "metadata": {
        "id": "E1zUoNys_9QL"
      },
      "outputs": [],
      "source": [
        "class MultiLayerRegressor(nn.Module):\n",
        "    def __init__(self, dim_in, hidden_dim):\n",
        "        super().__init__()\n",
        "        # self.first_layer = Linear(dim_in, hidden_dim)\n",
        "        self.first_layer = nn.Linear(dim_in, hidden_dim)\n",
        "        # self.second_layer = Linear(hidden_dim, 1)\n",
        "        self.second_layer = nn.Linear(hidden_dim, 1)\n",
        "    \n",
        "    \n",
        "    def forward(self, X):\n",
        "        x = self.first_layer(X)\n",
        "        # x = relu(x)\n",
        "        # x = F.relu(x)\n",
        "        x = self.second_layer(x)\n",
        "        return x"
      ]
    },
    {
      "cell_type": "code",
      "execution_count": 249,
      "metadata": {
        "id": "mc0dA6sxIFoe"
      },
      "outputs": [],
      "source": [
        "def multilayer_regressor(in_dim, hidden_dim):\n",
        "    return nn.Sequential(\n",
        "        nn.Linear(in_dim, hidden_dim),\n",
        "        nn.ReLU(),\n",
        "        nn.Linear(in_dim, 1),\n",
        "        nn.ReLU(),\n",
        "        nn.Linear(hidden_dim, 1),\n",
        "    )"
      ]
    },
    {
      "cell_type": "code",
      "execution_count": 250,
      "metadata": {
        "id": "FKLZZbRBAaBD"
      },
      "outputs": [],
      "source": [
        "# mlr = MultiLayerRegressor(3, 5)\n",
        "mlr = multilayer_regressor(3, 8)"
      ]
    },
    {
      "cell_type": "code",
      "execution_count": 251,
      "metadata": {
        "id": "0oaN64-iAwJ4"
      },
      "outputs": [],
      "source": [
        "train_losses = []\n",
        "valid_losses = []"
      ]
    },
    {
      "cell_type": "code",
      "execution_count": 252,
      "metadata": {
        "id": "Yt1uzMjZBkWQ"
      },
      "outputs": [],
      "source": [
        "LR = 1e-3\n",
        "N_EPOCHS = 20000"
      ]
    },
    {
      "cell_type": "code",
      "execution_count": 253,
      "metadata": {
        "id": "CPuw46kBFdty"
      },
      "outputs": [],
      "source": [
        "# Notice that instead of iterating through our parameters and applying\n",
        "# an update rule, we're just using torch's built in SGD optimizer.\n",
        "opt = optim.SGD(mlr.parameters(), lr=LR)"
      ]
    },
    {
      "cell_type": "code",
      "execution_count": 254,
      "metadata": {
        "id": "Bf91-OmaAepE",
        "colab": {
          "base_uri": "https://localhost:8080/",
          "height": 402
        },
        "outputId": "7a27d8ba-0444-41a1-dc94-4efa10f07cdd"
      },
      "outputs": [
        {
          "output_type": "error",
          "ename": "RuntimeError",
          "evalue": "ignored",
          "traceback": [
            "\u001b[0;31m---------------------------------------------------------------------------\u001b[0m",
            "\u001b[0;31mRuntimeError\u001b[0m                              Traceback (most recent call last)",
            "\u001b[0;32m<ipython-input-254-d07ac6c49c63>\u001b[0m in \u001b[0;36m<module>\u001b[0;34m()\u001b[0m\n\u001b[1;32m      1\u001b[0m \u001b[0;32mfor\u001b[0m \u001b[0mi\u001b[0m \u001b[0;32min\u001b[0m \u001b[0mrange\u001b[0m\u001b[0;34m(\u001b[0m\u001b[0mN_EPOCHS\u001b[0m\u001b[0;34m)\u001b[0m\u001b[0;34m:\u001b[0m\u001b[0;34m\u001b[0m\u001b[0;34m\u001b[0m\u001b[0m\n\u001b[0;32m----> 2\u001b[0;31m     \u001b[0myhat\u001b[0m \u001b[0;34m=\u001b[0m \u001b[0mmlr\u001b[0m\u001b[0;34m(\u001b[0m\u001b[0mX_train\u001b[0m\u001b[0;34m)\u001b[0m\u001b[0;34m.\u001b[0m\u001b[0msqueeze\u001b[0m\u001b[0;34m(\u001b[0m\u001b[0;34m)\u001b[0m\u001b[0;34m\u001b[0m\u001b[0;34m\u001b[0m\u001b[0m\n\u001b[0m\u001b[1;32m      3\u001b[0m     \u001b[0mloss\u001b[0m \u001b[0;34m=\u001b[0m \u001b[0mF\u001b[0m\u001b[0;34m.\u001b[0m\u001b[0mmse_loss\u001b[0m\u001b[0;34m(\u001b[0m\u001b[0myhat\u001b[0m\u001b[0;34m,\u001b[0m \u001b[0my_train\u001b[0m\u001b[0;34m)\u001b[0m\u001b[0;34m\u001b[0m\u001b[0;34m\u001b[0m\u001b[0m\n\u001b[1;32m      4\u001b[0m     \u001b[0mloss\u001b[0m\u001b[0;34m.\u001b[0m\u001b[0mbackward\u001b[0m\u001b[0;34m(\u001b[0m\u001b[0;34m)\u001b[0m\u001b[0;34m\u001b[0m\u001b[0;34m\u001b[0m\u001b[0m\n\u001b[1;32m      5\u001b[0m     \u001b[0mopt\u001b[0m\u001b[0;34m.\u001b[0m\u001b[0mstep\u001b[0m\u001b[0;34m(\u001b[0m\u001b[0;34m)\u001b[0m\u001b[0;34m\u001b[0m\u001b[0;34m\u001b[0m\u001b[0m\n",
            "\u001b[0;32m/usr/local/lib/python3.7/dist-packages/torch/nn/modules/module.py\u001b[0m in \u001b[0;36m_call_impl\u001b[0;34m(self, *input, **kwargs)\u001b[0m\n\u001b[1;32m   1108\u001b[0m         if not (self._backward_hooks or self._forward_hooks or self._forward_pre_hooks or _global_backward_hooks\n\u001b[1;32m   1109\u001b[0m                 or _global_forward_hooks or _global_forward_pre_hooks):\n\u001b[0;32m-> 1110\u001b[0;31m             \u001b[0;32mreturn\u001b[0m \u001b[0mforward_call\u001b[0m\u001b[0;34m(\u001b[0m\u001b[0;34m*\u001b[0m\u001b[0minput\u001b[0m\u001b[0;34m,\u001b[0m \u001b[0;34m**\u001b[0m\u001b[0mkwargs\u001b[0m\u001b[0;34m)\u001b[0m\u001b[0;34m\u001b[0m\u001b[0;34m\u001b[0m\u001b[0m\n\u001b[0m\u001b[1;32m   1111\u001b[0m         \u001b[0;31m# Do not call functions when jit is used\u001b[0m\u001b[0;34m\u001b[0m\u001b[0;34m\u001b[0m\u001b[0;34m\u001b[0m\u001b[0m\n\u001b[1;32m   1112\u001b[0m         \u001b[0mfull_backward_hooks\u001b[0m\u001b[0;34m,\u001b[0m \u001b[0mnon_full_backward_hooks\u001b[0m \u001b[0;34m=\u001b[0m \u001b[0;34m[\u001b[0m\u001b[0;34m]\u001b[0m\u001b[0;34m,\u001b[0m \u001b[0;34m[\u001b[0m\u001b[0;34m]\u001b[0m\u001b[0;34m\u001b[0m\u001b[0;34m\u001b[0m\u001b[0m\n",
            "\u001b[0;32m/usr/local/lib/python3.7/dist-packages/torch/nn/modules/container.py\u001b[0m in \u001b[0;36mforward\u001b[0;34m(self, input)\u001b[0m\n\u001b[1;32m    139\u001b[0m     \u001b[0;32mdef\u001b[0m \u001b[0mforward\u001b[0m\u001b[0;34m(\u001b[0m\u001b[0mself\u001b[0m\u001b[0;34m,\u001b[0m \u001b[0minput\u001b[0m\u001b[0;34m)\u001b[0m\u001b[0;34m:\u001b[0m\u001b[0;34m\u001b[0m\u001b[0;34m\u001b[0m\u001b[0m\n\u001b[1;32m    140\u001b[0m         \u001b[0;32mfor\u001b[0m \u001b[0mmodule\u001b[0m \u001b[0;32min\u001b[0m \u001b[0mself\u001b[0m\u001b[0;34m:\u001b[0m\u001b[0;34m\u001b[0m\u001b[0;34m\u001b[0m\u001b[0m\n\u001b[0;32m--> 141\u001b[0;31m             \u001b[0minput\u001b[0m \u001b[0;34m=\u001b[0m \u001b[0mmodule\u001b[0m\u001b[0;34m(\u001b[0m\u001b[0minput\u001b[0m\u001b[0;34m)\u001b[0m\u001b[0;34m\u001b[0m\u001b[0;34m\u001b[0m\u001b[0m\n\u001b[0m\u001b[1;32m    142\u001b[0m         \u001b[0;32mreturn\u001b[0m \u001b[0minput\u001b[0m\u001b[0;34m\u001b[0m\u001b[0;34m\u001b[0m\u001b[0m\n\u001b[1;32m    143\u001b[0m \u001b[0;34m\u001b[0m\u001b[0m\n",
            "\u001b[0;32m/usr/local/lib/python3.7/dist-packages/torch/nn/modules/module.py\u001b[0m in \u001b[0;36m_call_impl\u001b[0;34m(self, *input, **kwargs)\u001b[0m\n\u001b[1;32m   1108\u001b[0m         if not (self._backward_hooks or self._forward_hooks or self._forward_pre_hooks or _global_backward_hooks\n\u001b[1;32m   1109\u001b[0m                 or _global_forward_hooks or _global_forward_pre_hooks):\n\u001b[0;32m-> 1110\u001b[0;31m             \u001b[0;32mreturn\u001b[0m \u001b[0mforward_call\u001b[0m\u001b[0;34m(\u001b[0m\u001b[0;34m*\u001b[0m\u001b[0minput\u001b[0m\u001b[0;34m,\u001b[0m \u001b[0;34m**\u001b[0m\u001b[0mkwargs\u001b[0m\u001b[0;34m)\u001b[0m\u001b[0;34m\u001b[0m\u001b[0;34m\u001b[0m\u001b[0m\n\u001b[0m\u001b[1;32m   1111\u001b[0m         \u001b[0;31m# Do not call functions when jit is used\u001b[0m\u001b[0;34m\u001b[0m\u001b[0;34m\u001b[0m\u001b[0;34m\u001b[0m\u001b[0m\n\u001b[1;32m   1112\u001b[0m         \u001b[0mfull_backward_hooks\u001b[0m\u001b[0;34m,\u001b[0m \u001b[0mnon_full_backward_hooks\u001b[0m \u001b[0;34m=\u001b[0m \u001b[0;34m[\u001b[0m\u001b[0;34m]\u001b[0m\u001b[0;34m,\u001b[0m \u001b[0;34m[\u001b[0m\u001b[0;34m]\u001b[0m\u001b[0;34m\u001b[0m\u001b[0;34m\u001b[0m\u001b[0m\n",
            "\u001b[0;32m/usr/local/lib/python3.7/dist-packages/torch/nn/modules/linear.py\u001b[0m in \u001b[0;36mforward\u001b[0;34m(self, input)\u001b[0m\n\u001b[1;32m    101\u001b[0m \u001b[0;34m\u001b[0m\u001b[0m\n\u001b[1;32m    102\u001b[0m     \u001b[0;32mdef\u001b[0m \u001b[0mforward\u001b[0m\u001b[0;34m(\u001b[0m\u001b[0mself\u001b[0m\u001b[0;34m,\u001b[0m \u001b[0minput\u001b[0m\u001b[0;34m:\u001b[0m \u001b[0mTensor\u001b[0m\u001b[0;34m)\u001b[0m \u001b[0;34m->\u001b[0m \u001b[0mTensor\u001b[0m\u001b[0;34m:\u001b[0m\u001b[0;34m\u001b[0m\u001b[0;34m\u001b[0m\u001b[0m\n\u001b[0;32m--> 103\u001b[0;31m         \u001b[0;32mreturn\u001b[0m \u001b[0mF\u001b[0m\u001b[0;34m.\u001b[0m\u001b[0mlinear\u001b[0m\u001b[0;34m(\u001b[0m\u001b[0minput\u001b[0m\u001b[0;34m,\u001b[0m \u001b[0mself\u001b[0m\u001b[0;34m.\u001b[0m\u001b[0mweight\u001b[0m\u001b[0;34m,\u001b[0m \u001b[0mself\u001b[0m\u001b[0;34m.\u001b[0m\u001b[0mbias\u001b[0m\u001b[0;34m)\u001b[0m\u001b[0;34m\u001b[0m\u001b[0;34m\u001b[0m\u001b[0m\n\u001b[0m\u001b[1;32m    104\u001b[0m \u001b[0;34m\u001b[0m\u001b[0m\n\u001b[1;32m    105\u001b[0m     \u001b[0;32mdef\u001b[0m \u001b[0mextra_repr\u001b[0m\u001b[0;34m(\u001b[0m\u001b[0mself\u001b[0m\u001b[0;34m)\u001b[0m \u001b[0;34m->\u001b[0m \u001b[0mstr\u001b[0m\u001b[0;34m:\u001b[0m\u001b[0;34m\u001b[0m\u001b[0;34m\u001b[0m\u001b[0m\n",
            "\u001b[0;31mRuntimeError\u001b[0m: mat1 and mat2 shapes cannot be multiplied (900x8 and 3x1)"
          ]
        }
      ],
      "source": [
        "for i in range(N_EPOCHS):\n",
        "    yhat = mlr(X_train).squeeze()\n",
        "    loss = F.mse_loss(yhat, y_train)\n",
        "    loss.backward()\n",
        "    opt.step()\n",
        "    opt.zero_grad()\n",
        "    train_losses.append(loss.detach().numpy())\n",
        "\n",
        "    with torch.no_grad():\n",
        "        yhat = mlr(X_valid).squeeze()\n",
        "        valid_loss = F.mse_loss(yhat, y_valid)\n",
        "        valid_losses.append(loss.numpy())\n",
        "    \n",
        "    if i%(N_EPOCHS/10) == 0:\n",
        "        print(f\"Epoch {i} Train loss: {loss:.04f}, Valid loss: {valid_loss:.04f}\")"
      ]
    },
    {
      "cell_type": "code",
      "execution_count": 241,
      "metadata": {
        "id": "1FImQTDQA278",
        "colab": {
          "base_uri": "https://localhost:8080/",
          "height": 719
        },
        "outputId": "9bcf348b-684f-4526-cbfd-c5bb694ef191"
      },
      "outputs": [
        {
          "output_type": "execute_result",
          "data": {
            "text/plain": [
              "<matplotlib.legend.Legend at 0x7f8eb6233d50>"
            ]
          },
          "metadata": {},
          "execution_count": 241
        },
        {
          "output_type": "display_data",
          "data": {
            "text/plain": [
              "<Figure size 864x864 with 1 Axes>"
            ],
            "image/png": "[encoded data removed]"
          },
          "metadata": {
            "needs_background": "light"
          }
        }
      ],
      "source": [
        "idx=1000\n",
        "fig, ax = plt.subplots(figsize=(12, 12))\n",
        "ax.plot(train_losses[:idx], label='Train', linewidth=3, alpha=0.5)\n",
        "ax.plot(valid_losses[:idx], ls='--', label='Valid')\n",
        "ax.legend()"
      ]
    },
    {
      "cell_type": "code",
      "execution_count": null,
      "metadata": {
        "id": "q-WNsgD3UZlj"
      },
      "outputs": [],
      "source": [
        ""
      ]
    },
    {
      "cell_type": "markdown",
      "source": [
        "In this exercise, use the code below to explore different aspects of our nerual netowrk. For each of the following scenarios, inspect the plots of the train/validaiton loss at the end of the notebook and record what happens with each experient you do. Try to...\n",
        "\n",
        "- Switch out nn.Linear for the Linear class we defined earlier. Do these networks learn differently?\n",
        "\n",
        "    ***Response:*** The custom *Linear* method converges more slowly than the *nn* method.\n",
        "\n",
        "\n",
        "- What happens if if we use MultiLayerRegressor (the subclassing API) vs. the multilayer_regressor function (the sequential API)? Are these equivalent?\n",
        "    \n",
        "    ***Response:*** The *multilayer_regressor* learns in what appears to be a more step-like fashion: \n",
        "    \n",
        "    ![image.png](data:image/png;base64,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)\n",
        "\n",
        "\n",
        "- What happens as you increase the hidden_dim?\n",
        "    \n",
        "    ***Response:*** After increasing the hidden_dim to 5 for the *MultiLayerRegressor*, it learns well but not better. In this case, additional layers aren't helpful\n",
        "\n",
        "\n",
        "- Remove the nonlinearity. Does your network learn as well?\n",
        "\n",
        "    ***Response:*** It converges quickly and flatens out. The resulting loss was slightly higher but perhaps negligible at: \n",
        "    \n",
        "    **No ReLU: Epoch 18000 Train loss: 4.1377, Valid loss: 4.1708**\n",
        "    \n",
        "    **With ReLU: Epoch 18000 Train loss: 4.12, Valid loss: 4.16**\n",
        "\n",
        "- Try adding at least 1 layer in between the input and output layers of the network, with a nonlinearity. NOTE: Since we're learning a really simple function, additional layers may not help our loss.\n",
        "\n",
        "    ***Response:*** I'm having trouble here when trying to add layers. I keep getting the error:\n",
        "\n",
        "            RuntimeError: mat1 and mat2 shapes cannot be multiplied (900x8 and 3x1)\n",
        "\n",
        "    I'm not sure how to properly adjust the code to add layers. I'll look into it but it would be great to discuss it in our upcoming meeting!\n",
        "    \n",
        "\n"
      ],
      "metadata": {
        "id": "ZcmvIXdxLfFq"
      }
    },
    {
      "cell_type": "code",
      "source": [
        ""
      ],
      "metadata": {
        "id": "ycoxvjvuLg10"
      },
      "execution_count": 166,
      "outputs": []
    }
  ],
  "metadata": {
    "colab": {
      "collapsed_sections": [],
      "name": "Copy of Our_first_neural_network_linear_regression_workset.ipynb",
      "provenance": [],
      "include_colab_link": true
    },
    "kernelspec": {
      "display_name": "cndl",
      "language": "python",
      "name": "cndl"
    },
    "language_info": {
      "codemirror_mode": {
        "name": "ipython",
        "version": 3
      },
      "file_extension": ".py",
      "mimetype": "text/x-python",
      "name": "python",
      "nbconvert_exporter": "python",
      "pygments_lexer": "ipython3",
      "version": "3.9.4"
    }
  },
  "nbformat": 4,
  "nbformat_minor": 0
}